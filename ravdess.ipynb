{
  "cells": [
    {
      "cell_type": "code",
      "execution_count": 1,
      "metadata": {
        "colab": {
          "base_uri": "https://localhost:8080/"
        },
        "id": "boeJMYM9VN7s",
        "outputId": "787a510e-b755-4fd9-dbef-ee206abb52a7"
      },
      "outputs": [
        {
          "name": "stdout",
          "output_type": "stream",
          "text": [
            "Mounted at /content/drive/\n"
          ]
        }
      ],
      "source": [
        "from google.colab import drive\n",
        "drive.mount('/content/drive/')"
      ]
    },
    {
      "cell_type": "code",
      "execution_count": 2,
      "metadata": {
        "id": "qAoopysFWeqH"
      },
      "outputs": [],
      "source": [
        "import cv2\n",
        "import numpy as np\n",
        "import os\n",
        "\n",
        "from sklearn.model_selection import train_test_split\n",
        "from keras.models import Sequential\n",
        "from keras import layers\n",
        "from keras import optimizers\n",
        "from keras import callbacks\n",
        "import tensorflow as tf\n",
        "from keras.models import model_from_json\n",
        "from keras.models import load_model"
      ]
    },
    {
      "cell_type": "code",
      "execution_count": null,
      "metadata": {
        "id": "SeJREu-TaX7A"
      },
      "outputs": [],
      "source": [
        "#Video preprocessing. Сompressing and cropping them to the same size\n",
        "def process_video(video_path):\n",
        "    cap = cv2.VideoCapture(video_path)\n",
        "\n",
        "    frames = []\n",
        "    frame_count = 0\n",
        "    max_frames = 80\n",
        "\n",
        "    while(cap.isOpened() and frame_count < max_frames):\n",
        "        ret, frame = cap.read()\n",
        "        if not ret:\n",
        "            break\n",
        "        frame = cv2.resize(frame, (100, 56))\n",
        "        frame = cv2.cvtColor(frame, cv2.COLOR_BGR2GRAY)\n",
        "\n",
        "        frames.append(frame)\n",
        "\n",
        "        frame_count += 1\n",
        "\n",
        "    cap.release()\n",
        "    cv2.destroyAllWindows()\n",
        "\n",
        "    return frames"
      ]
    },
    {
      "cell_type": "code",
      "execution_count": null,
      "metadata": {
        "id": "jh60_-rBBTnA"
      },
      "outputs": [],
      "source": [
        "data = []\n",
        "emotions = []\n",
        "\n",
        "for subdir, dirs, files in os.walk('/content/drive/MyDrive/Dataset/dataset'):\n",
        "    for file in files:\n",
        "        if file.endswith('.mp4') or file.endswith('.avi'):\n",
        "            video_path = os.path.join(subdir, file)\n",
        "\n",
        "            data.append(process_video(video_path))\n",
        "            emotion_code = file.split(\"-\")[2]\n",
        "            emotions.append(int(emotion_code[1])-1)"
      ]
    },
    {
      "cell_type": "markdown",
      "metadata": {
        "id": "jK9foWQ_YO0z"
      },
      "source": [
        "You can download pre-processed videos from google drive<br>\n",
        "Data: https://drive.google.com/file/d/1mqP1ZKqd-hIrzilWadbkaLkxKKIqiL_5/view?usp=sharing<br>\n",
        "Emotions: https://drive.google.com/file/d/1DClF0sJPcpR9Szrh2OJ9nlClw2iQDS1y/view?usp=sharing"
      ]
    },
    {
      "cell_type": "code",
      "execution_count": 3,
      "metadata": {
        "id": "dV_FF-9eOA8L"
      },
      "outputs": [],
      "source": [
        "data = np.load('/content/drive/MyDrive/array.npy')\n",
        "emotions = np.load('/content/drive/MyDrive/emot.npy')"
      ]
    },
    {
      "cell_type": "code",
      "execution_count": 4,
      "metadata": {
        "id": "b0wZJ1vgs9W-"
      },
      "outputs": [],
      "source": [
        "data = np.array(data)"
      ]
    },
    {
      "cell_type": "code",
      "execution_count": 5,
      "metadata": {
        "id": "-6bZn2UAxbEX"
      },
      "outputs": [],
      "source": [
        "data = data.reshape(data.shape[0], 80, 5600)"
      ]
    },
    {
      "cell_type": "code",
      "execution_count": 6,
      "metadata": {
        "id": "cICCAn4Ppdj0"
      },
      "outputs": [],
      "source": [
        "x_train, x_tosplit, y_train, y_tosplit = train_test_split(data, emotions, test_size=0.2, random_state=1)\n",
        "x_val, x_test, y_val, y_test = train_test_split(x_tosplit, y_tosplit, test_size = 0.304, random_state = 1)\n",
        "\n",
        "y_train_class = tf.keras.utils.to_categorical(y_train, num_classes=8, dtype = 'int8')\n",
        "y_val_class = tf.keras.utils.to_categorical(y_val, num_classes=8, dtype = 'int8')"
      ]
    },
    {
      "cell_type": "code",
      "execution_count": 7,
      "metadata": {
        "colab": {
          "base_uri": "https://localhost:8080/"
        },
        "id": "L-z9c2BmQrPd",
        "outputId": "25e6aadd-d9b3-4f47-9660-bbd1e8922c48"
      },
      "outputs": [
        {
          "name": "stdout",
          "output_type": "stream",
          "text": [
            "Model: \"sequential\"\n",
            "_________________________________________________________________\n",
            " Layer (type)                Output Shape              Param #   \n",
            "=================================================================\n",
            " conv2d (Conv2D)             (None, 78, 5598, 32)      320       \n",
            "                                                                 \n",
            " max_pooling2d (MaxPooling2  (None, 39, 2799, 32)      0         \n",
            " D)                                                              \n",
            "                                                                 \n",
            " conv2d_1 (Conv2D)           (None, 37, 2797, 64)      18496     \n",
            "                                                                 \n",
            " max_pooling2d_1 (MaxPoolin  (None, 18, 1398, 64)      0         \n",
            " g2D)                                                            \n",
            "                                                                 \n",
            " conv2d_2 (Conv2D)           (None, 16, 1396, 128)     73856     \n",
            "                                                                 \n",
            " max_pooling2d_2 (MaxPoolin  (None, 8, 698, 128)       0         \n",
            " g2D)                                                            \n",
            "                                                                 \n",
            " conv2d_3 (Conv2D)           (None, 6, 696, 128)       147584    \n",
            "                                                                 \n",
            " max_pooling2d_3 (MaxPoolin  (None, 3, 348, 128)       0         \n",
            " g2D)                                                            \n",
            "                                                                 \n",
            " flatten (Flatten)           (None, 133632)            0         \n",
            "                                                                 \n",
            " dropout (Dropout)           (None, 133632)            0         \n",
            "                                                                 \n",
            " dense (Dense)               (None, 8)                 1069064   \n",
            "                                                                 \n",
            "=================================================================\n",
            "Total params: 1309320 (4.99 MB)\n",
            "Trainable params: 1309320 (4.99 MB)\n",
            "Non-trainable params: 0 (0.00 Byte)\n",
            "_________________________________________________________________\n",
            "None\n",
            "Epoch 1/40\n",
            "72/72 [==============================] - 55s 533ms/step - loss: 9.2132 - categorical_accuracy: 0.1360 - val_loss: 2.0688 - val_categorical_accuracy: 0.1475 - lr: 0.0010\n",
            "Epoch 2/40\n"
          ]
        },
        {
          "name": "stderr",
          "output_type": "stream",
          "text": [
            "/usr/local/lib/python3.10/dist-packages/keras/src/engine/training.py:3103: UserWarning: You are saving your model as an HDF5 file via `model.save()`. This file format is considered legacy. We recommend using instead the native Keras format, e.g. `model.save('my_model.keras')`.\n",
            "  saving_api.save_model(\n"
          ]
        },
        {
          "name": "stdout",
          "output_type": "stream",
          "text": [
            "72/72 [==============================] - 26s 362ms/step - loss: 2.0097 - categorical_accuracy: 0.2055 - val_loss: 1.9799 - val_categorical_accuracy: 0.2075 - lr: 0.0010\n",
            "Epoch 3/40\n",
            "72/72 [==============================] - 26s 361ms/step - loss: 1.9174 - categorical_accuracy: 0.2489 - val_loss: 1.8624 - val_categorical_accuracy: 0.3275 - lr: 0.0010\n",
            "Epoch 4/40\n",
            "72/72 [==============================] - 26s 362ms/step - loss: 1.8228 - categorical_accuracy: 0.3010 - val_loss: 1.8059 - val_categorical_accuracy: 0.3850 - lr: 0.0010\n",
            "Epoch 5/40\n",
            "72/72 [==============================] - 26s 360ms/step - loss: 1.6886 - categorical_accuracy: 0.3788 - val_loss: 1.8526 - val_categorical_accuracy: 0.3625 - lr: 0.0010\n",
            "Epoch 6/40\n",
            "72/72 [==============================] - 26s 359ms/step - loss: 1.6737 - categorical_accuracy: 0.4057 - val_loss: 1.7958 - val_categorical_accuracy: 0.3725 - lr: 0.0010\n",
            "Epoch 7/40\n",
            "72/72 [==============================] - 26s 360ms/step - loss: 1.5749 - categorical_accuracy: 0.4318 - val_loss: 1.6510 - val_categorical_accuracy: 0.4175 - lr: 0.0010\n",
            "Epoch 8/40\n",
            "72/72 [==============================] - 26s 363ms/step - loss: 1.4340 - categorical_accuracy: 0.4926 - val_loss: 1.4114 - val_categorical_accuracy: 0.5450 - lr: 0.0010\n",
            "Epoch 9/40\n",
            "72/72 [==============================] - 26s 361ms/step - loss: 1.2861 - categorical_accuracy: 0.5417 - val_loss: 1.2993 - val_categorical_accuracy: 0.5850 - lr: 0.0010\n",
            "Epoch 10/40\n",
            "72/72 [==============================] - 26s 360ms/step - loss: 1.2714 - categorical_accuracy: 0.5443 - val_loss: 1.3680 - val_categorical_accuracy: 0.5550 - lr: 0.0010\n",
            "Epoch 11/40\n",
            "72/72 [==============================] - 26s 363ms/step - loss: 1.1688 - categorical_accuracy: 0.5821 - val_loss: 1.2035 - val_categorical_accuracy: 0.6050 - lr: 0.0010\n",
            "Epoch 12/40\n",
            "72/72 [==============================] - 26s 364ms/step - loss: 1.1832 - categorical_accuracy: 0.5851 - val_loss: 1.1094 - val_categorical_accuracy: 0.6575 - lr: 0.0010\n",
            "Epoch 13/40\n",
            "72/72 [==============================] - 26s 360ms/step - loss: 1.0940 - categorical_accuracy: 0.6034 - val_loss: 1.1477 - val_categorical_accuracy: 0.6550 - lr: 0.0010\n",
            "Epoch 14/40\n",
            "72/72 [==============================] - 26s 362ms/step - loss: 1.0011 - categorical_accuracy: 0.6525 - val_loss: 1.0300 - val_categorical_accuracy: 0.6975 - lr: 0.0010\n",
            "Epoch 15/40\n",
            "72/72 [==============================] - 26s 361ms/step - loss: 0.9493 - categorical_accuracy: 0.6699 - val_loss: 0.9873 - val_categorical_accuracy: 0.7050 - lr: 0.0010\n",
            "Epoch 16/40\n",
            "72/72 [==============================] - 26s 361ms/step - loss: 0.8290 - categorical_accuracy: 0.7042 - val_loss: 0.8880 - val_categorical_accuracy: 0.7300 - lr: 0.0010\n",
            "Epoch 17/40\n",
            "72/72 [==============================] - 26s 363ms/step - loss: 0.8563 - categorical_accuracy: 0.7024 - val_loss: 0.9287 - val_categorical_accuracy: 0.7150 - lr: 0.0010\n",
            "Epoch 18/40\n",
            "72/72 [==============================] - 26s 362ms/step - loss: 0.8241 - categorical_accuracy: 0.7107 - val_loss: 0.9117 - val_categorical_accuracy: 0.7425 - lr: 0.0010\n",
            "Epoch 19/40\n",
            "72/72 [==============================] - 26s 363ms/step - loss: 0.8159 - categorical_accuracy: 0.7311 - val_loss: 0.7711 - val_categorical_accuracy: 0.7700 - lr: 0.0010\n",
            "Epoch 20/40\n",
            "72/72 [==============================] - 26s 363ms/step - loss: 0.7060 - categorical_accuracy: 0.7567 - val_loss: 0.8501 - val_categorical_accuracy: 0.7600 - lr: 0.0010\n",
            "Epoch 21/40\n",
            "72/72 [==============================] - 26s 364ms/step - loss: 0.7057 - categorical_accuracy: 0.7593 - val_loss: 0.8428 - val_categorical_accuracy: 0.7800 - lr: 0.0010\n",
            "Epoch 22/40\n",
            "72/72 [==============================] - 26s 363ms/step - loss: 0.6983 - categorical_accuracy: 0.7663 - val_loss: 0.8911 - val_categorical_accuracy: 0.7725 - lr: 0.0010\n",
            "Epoch 23/40\n",
            "72/72 [==============================] - 26s 361ms/step - loss: 0.6875 - categorical_accuracy: 0.7663 - val_loss: 0.6990 - val_categorical_accuracy: 0.8250 - lr: 0.0010\n",
            "Epoch 24/40\n",
            "72/72 [==============================] - 26s 362ms/step - loss: 0.6246 - categorical_accuracy: 0.7997 - val_loss: 0.7475 - val_categorical_accuracy: 0.7775 - lr: 0.0010\n",
            "Epoch 25/40\n",
            "72/72 [==============================] - 26s 360ms/step - loss: 0.5927 - categorical_accuracy: 0.7958 - val_loss: 0.7052 - val_categorical_accuracy: 0.7925 - lr: 0.0010\n",
            "Epoch 26/40\n",
            "72/72 [==============================] - 26s 360ms/step - loss: 0.5080 - categorical_accuracy: 0.8319 - val_loss: 0.7917 - val_categorical_accuracy: 0.8200 - lr: 0.0010\n",
            "Epoch 27/40\n",
            "72/72 [==============================] - 26s 359ms/step - loss: 0.4696 - categorical_accuracy: 0.8332 - val_loss: 0.7547 - val_categorical_accuracy: 0.8075 - lr: 0.0010\n",
            "Epoch 28/40\n",
            "72/72 [==============================] - 26s 361ms/step - loss: 0.4741 - categorical_accuracy: 0.8467 - val_loss: 0.6631 - val_categorical_accuracy: 0.8325 - lr: 0.0010\n",
            "Epoch 29/40\n",
            "72/72 [==============================] - 26s 359ms/step - loss: 0.5957 - categorical_accuracy: 0.8223 - val_loss: 0.7339 - val_categorical_accuracy: 0.8325 - lr: 0.0010\n",
            "Epoch 30/40\n",
            "72/72 [==============================] - 26s 360ms/step - loss: 0.5058 - categorical_accuracy: 0.8336 - val_loss: 0.7220 - val_categorical_accuracy: 0.8375 - lr: 0.0010\n",
            "Epoch 31/40\n",
            "72/72 [==============================] - 26s 360ms/step - loss: 0.3993 - categorical_accuracy: 0.8723 - val_loss: 0.5968 - val_categorical_accuracy: 0.8475 - lr: 0.0010\n",
            "Epoch 32/40\n",
            "72/72 [==============================] - 26s 362ms/step - loss: 0.4100 - categorical_accuracy: 0.8632 - val_loss: 0.6588 - val_categorical_accuracy: 0.8325 - lr: 0.0010\n",
            "Epoch 33/40\n",
            "72/72 [==============================] - 26s 362ms/step - loss: 0.3976 - categorical_accuracy: 0.8692 - val_loss: 0.7003 - val_categorical_accuracy: 0.8200 - lr: 0.0010\n",
            "Epoch 34/40\n",
            "72/72 [==============================] - 26s 360ms/step - loss: 0.3180 - categorical_accuracy: 0.8884 - val_loss: 0.6093 - val_categorical_accuracy: 0.8575 - lr: 0.0010\n",
            "Epoch 35/40\n",
            "72/72 [==============================] - 26s 363ms/step - loss: 0.3192 - categorical_accuracy: 0.8897 - val_loss: 0.5507 - val_categorical_accuracy: 0.8825 - lr: 0.0010\n",
            "Epoch 36/40\n",
            "72/72 [==============================] - 26s 359ms/step - loss: 0.3132 - categorical_accuracy: 0.8923 - val_loss: 0.6848 - val_categorical_accuracy: 0.8675 - lr: 0.0010\n",
            "Epoch 37/40\n",
            "72/72 [==============================] - 26s 359ms/step - loss: 0.3346 - categorical_accuracy: 0.8997 - val_loss: 0.7406 - val_categorical_accuracy: 0.8575 - lr: 0.0010\n",
            "Epoch 38/40\n",
            "72/72 [==============================] - 26s 359ms/step - loss: 0.2785 - categorical_accuracy: 0.9057 - val_loss: 0.6797 - val_categorical_accuracy: 0.8825 - lr: 0.0010\n",
            "Epoch 39/40\n",
            "72/72 [==============================] - 26s 359ms/step - loss: 0.3085 - categorical_accuracy: 0.8988 - val_loss: 0.9454 - val_categorical_accuracy: 0.8550 - lr: 0.0010\n",
            "Epoch 40/40\n",
            "72/72 [==============================] - 26s 359ms/step - loss: 0.2831 - categorical_accuracy: 0.9092 - val_loss: 0.7114 - val_categorical_accuracy: 0.8625 - lr: 0.0010\n"
          ]
        }
      ],
      "source": [
        "model = Sequential()\n",
        "model.add(layers.Conv2D(32, (3, 3), activation='relu', input_shape=(80, 5600,1)))\n",
        "model.add(layers.MaxPooling2D((2, 2)))\n",
        "model.add(layers.Conv2D(64, (3, 3), activation='relu'))\n",
        "model.add(layers.MaxPooling2D((2, 2)))\n",
        "model.add(layers.Conv2D(128, (3, 3), activation='relu'))\n",
        "model.add(layers.MaxPooling2D((2, 2)))\n",
        "model.add(layers.Conv2D(128, (3, 3), activation='relu'))\n",
        "model.add(layers.MaxPooling2D((2, 2)))\n",
        "model.add(layers.Flatten())\n",
        "#model.add(layers.Dense(512, activation='relu'))\n",
        "model.add(layers.Dropout(0.5))\n",
        "model.add(layers.Dense(8, activation='softmax'))\n",
        "print(model.summary())\n",
        "\n",
        "batch_size = 32\n",
        "\n",
        "checkpoint_path = 'best_weights.hdf5'\n",
        "\n",
        "mcp_save = callbacks.ModelCheckpoint(checkpoint_path, save_best_only=True,\n",
        "                           monitor='val_categorical_accuracy',\n",
        "                           mode='max')\n",
        "\n",
        "rlrop = callbacks.ReduceLROnPlateau(monitor='val_categorical_accuracy',\n",
        "                                    factor=0.1, patience=100)\n",
        "\n",
        "model.compile(loss='categorical_crossentropy',\n",
        "                optimizer='adam',\n",
        "                metrics=['categorical_accuracy'])\n",
        "\n",
        "history = model.fit(x_train, y_train_class,\n",
        "                      epochs=40, batch_size = batch_size,\n",
        "                      validation_data = (x_val, y_val_class),\n",
        "                      callbacks = [mcp_save, rlrop])"
      ]
    },
    {
      "cell_type": "code",
      "execution_count": 16,
      "metadata": {
        "colab": {
          "base_uri": "https://localhost:8080/"
        },
        "id": "bKCAOujdfdbz",
        "outputId": "e79f250c-e99a-4320-b3b7-cb36d193b629"
      },
      "outputs": [
        {
          "name": "stdout",
          "output_type": "stream",
          "text": [
            "Saved model to disk\n"
          ]
        }
      ],
      "source": [
        "model_json = model.to_json()\n",
        "saved_model_path = 'model.json'\n",
        "saved_weights_path = 'model_weights.h5'\n",
        "\n",
        "with open(saved_model_path, \"w\") as json_file:\n",
        "    json_file.write(model_json)\n",
        "\n",
        "model.save_weights(saved_weights_path)\n",
        "print(\"Saved model to disk\")"
      ]
    },
    {
      "cell_type": "code",
      "execution_count": null,
      "metadata": {
        "id": "z4rVYFusNk2D"
      },
      "outputs": [],
      "source": [
        "saved_model_path = 'model.json'\n",
        "saved_weights_path = 'model_weights.h5'\n",
        "\n",
        "with open(saved_model_path , 'r') as json_file:\n",
        "    json_savedModel = json_file.read()\n",
        "\n",
        "model = tf.keras.models.model_from_json(json_savedModel)\n",
        "model.load_weights(saved_weights_path)\n",
        "\n",
        "model.compile(loss='categorical_crossentropy',\n",
        "                optimizer='adam',\n",
        "                metrics=['categorical_accuracy'])\n",
        "\n",
        "tf.keras.utils.plot_model(model, to_file='model.png', show_shapes=True, show_layer_names=True)"
      ]
    },
    {
      "cell_type": "code",
      "execution_count": 11,
      "metadata": {
        "id": "ZgVJWdlBPa3C"
      },
      "outputs": [],
      "source": [
        "import seaborn as sns\n",
        "import matplotlib.pyplot as plt\n",
        "import pandas as pd\n",
        "from sklearn.metrics import confusion_matrix"
      ]
    },
    {
      "cell_type": "code",
      "execution_count": 12,
      "metadata": {
        "id": "zPh1L9oeNww5"
      },
      "outputs": [],
      "source": [
        "x_test = np.asarray(x_test).astype('float32')\n",
        "\n",
        "y_test = np.asarray(y_test).astype('int8')\n",
        "\n",
        "y_test_class = tf.keras.utils.to_categorical(y_test, 8, dtype = 'int8')"
      ]
    },
    {
      "cell_type": "code",
      "execution_count": 13,
      "metadata": {
        "colab": {
          "base_uri": "https://localhost:8080/"
        },
        "id": "ECdj3S0GNyG4",
        "outputId": "d7558166-3af4-4bbc-8ab8-a4fe701c28a0"
      },
      "outputs": [
        {
          "name": "stdout",
          "output_type": "stream",
          "text": [
            "6/6 - 1s - loss: 0.5254 - categorical_accuracy: 0.8523 - 875ms/epoch - 146ms/step\n"
          ]
        }
      ],
      "source": [
        "loss, acc = model.evaluate(x_test, y_test_class, verbose=2)"
      ]
    },
    {
      "cell_type": "code",
      "execution_count": 14,
      "metadata": {
        "colab": {
          "base_uri": "https://localhost:8080/",
          "height": 736
        },
        "id": "OE6ndDLTNzmI",
        "outputId": "f33e3384-7e61-489f-cb5d-e3cc71ccb7c3"
      },
      "outputs": [
        {
          "name": "stdout",
          "output_type": "stream",
          "text": [
            "6/6 [==============================] - 1s 119ms/step\n"
          ]
        },
        {
          "data": {
            "text/plain": [
              "Text(0.5, 58.7222222222222, 'Predicted emotion')"
            ]
          },
          "execution_count": 14,
          "metadata": {},
          "output_type": "execute_result"
        },
        {
          "data": {
            "image/png": "[encoded data removed]",
            "text/plain": [
              "<Figure size 1200x800 with 2 Axes>"
            ]
          },
          "metadata": {},
          "output_type": "display_data"
        }
      ],
      "source": [
        "y_test_class = np.argmax(y_test_class, axis=1)\n",
        "predictions = model.predict(x_test)\n",
        "y_pred_class = np.argmax(predictions, axis=1)\n",
        "\n",
        "cm=confusion_matrix(y_test_class, y_pred_class)\n",
        "\n",
        "index = ['neutral', 'calm', 'happy', 'sad', 'angry', 'fearful', 'disgust', 'surprised']\n",
        "columns = ['neutral', 'calm', 'happy', 'sad', 'angry', 'fearful', 'disgust', 'surprised']\n",
        "\n",
        "cm_df = pd.DataFrame(cm,index,columns)\n",
        "plt.figure(figsize=(12,8))\n",
        "ax = plt.axes()\n",
        "\n",
        "sns.heatmap(cm_df, ax = ax, cmap = 'BuGn', fmt=\"d\", annot=True)\n",
        "ax.set_ylabel('True emotion')\n",
        "ax.set_xlabel('Predicted emotion')"
      ]
    },
    {
      "cell_type": "code",
      "execution_count": 15,
      "metadata": {
        "colab": {
          "base_uri": "https://localhost:8080/"
        },
        "id": "tRHPv4i-N1S4",
        "outputId": "632697ca-8922-4da2-939a-ec10d58f9e47"
      },
      "outputs": [
        {
          "name": "stdout",
          "output_type": "stream",
          "text": [
            "neutral : 1.0000\n",
            "calm : 0.8333\n",
            "happy : 0.9677\n",
            "sad : 0.7812\n",
            "angry : 0.9091\n",
            "fearful : 0.8462\n",
            "disgust : 0.7500\n",
            "surprised : 0.8824\n"
          ]
        }
      ],
      "source": [
        "values = cm.diagonal()\n",
        "row_sum = np.sum(cm,axis=1)\n",
        "acc = values / row_sum\n",
        "\n",
        "for e in range(0, len(values)):\n",
        "    print(index[e],':', f\"{(acc[e]):0.4f}\")"
      ]
    }
  ],
  "metadata": {
    "accelerator": "GPU",
    "colab": {
      "gpuType": "T4",
      "provenance": []
    },
    "kernelspec": {
      "display_name": "Python 3",
      "name": "python3"
    },
    "language_info": {
      "name": "python"
    }
  },
  "nbformat": 4,
  "nbformat_minor": 0
}
